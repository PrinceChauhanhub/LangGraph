{
 "cells": [
  {
   "cell_type": "markdown",
   "id": "2084e617",
   "metadata": {},
   "source": [
    "# basic LLM workflow\n",
    "\n",
    "start -> LLM_QA -> END\n",
    "\n",
    "user send query then llm get the answer and return it."
   ]
  },
  {
   "cell_type": "code",
   "execution_count": 18,
   "id": "8146dd68",
   "metadata": {},
   "outputs": [],
   "source": [
    "from langgraph.graph import StateGraph, START, END\n",
    "from typing import TypedDict\n",
    "from dotenv import load_dotenv\n",
    "from langchain_google_genai import ChatGoogleGenerativeAI"
   ]
  },
  {
   "cell_type": "code",
   "execution_count": 19,
   "id": "18485455",
   "metadata": {},
   "outputs": [
    {
     "data": {
      "text/plain": [
       "True"
      ]
     },
     "execution_count": 19,
     "metadata": {},
     "output_type": "execute_result"
    }
   ],
   "source": [
    "load_dotenv()"
   ]
  },
  {
   "cell_type": "code",
   "execution_count": 20,
   "id": "8548065e",
   "metadata": {},
   "outputs": [],
   "source": [
    "model = ChatGoogleGenerativeAI(model=\"gemini-1.5-flash\")"
   ]
  },
  {
   "cell_type": "code",
   "execution_count": 21,
   "id": "0f9ff76a",
   "metadata": {},
   "outputs": [],
   "source": [
    "## Creating a state \n",
    "\n",
    "class LLMState(TypedDict):\n",
    "    \n",
    "    question: str\n",
    "    answer : str"
   ]
  },
  {
   "cell_type": "code",
   "execution_count": 22,
   "id": "00060a94",
   "metadata": {},
   "outputs": [],
   "source": [
    "def llm_qa(state : LLMState) -> LLMState:\n",
    "    \n",
    "    ## extract the question from state\n",
    "    \n",
    "    question = state['question']\n",
    "    \n",
    "    ##form a prompt\n",
    "    \n",
    "    prompt = f\"Answer the following question {question}\"\n",
    "    \n",
    "    ## Ask question to the llm\n",
    "    answer = model.invoke(prompt).content\n",
    "    \n",
    "    ## Update the state\n",
    "    \n",
    "    state['answer'] = answer\n",
    "    \n",
    "    return state  "
   ]
  },
  {
   "cell_type": "code",
   "execution_count": 23,
   "id": "93b548c6",
   "metadata": {},
   "outputs": [],
   "source": [
    "## Create our graph\n",
    "graph = StateGraph(LLMState)\n",
    "\n",
    "## Adding the node\n",
    "graph.add_node('llm_qa',llm_qa)\n",
    "\n",
    "## Add edges\n",
    "\n",
    "graph.add_edge(START,'llm_qa')\n",
    "graph.add_edge('llm_qa',END)\n",
    "\n",
    "## compile the graph\n",
    "workflow = graph.compile()"
   ]
  },
  {
   "cell_type": "code",
   "execution_count": 26,
   "id": "5404b5d4",
   "metadata": {},
   "outputs": [
    {
     "name": "stdout",
     "output_type": "stream",
     "text": [
      "Agentic AI, which acts autonomously to achieve goals, has several key use cases:\n",
      "\n",
      "1. **Autonomous Robotics:**  Agentic AI enables robots to operate independently in complex environments, such as warehouses, disaster zones, or space exploration.  They can navigate, manipulate objects, and make decisions without constant human intervention.\n",
      "\n",
      "2. **Personalized Healthcare:**  Agentic AI can manage individual patient health, adapting treatment plans in real-time based on sensor data and patient responses. This includes personalized medication management, proactive health monitoring, and robotic surgery assistance.\n",
      "\n",
      "3. **Automated Customer Service:** Agentic AI chatbots and virtual assistants can handle a wider range of customer inquiries and requests autonomously, freeing up human agents to focus on more complex issues. This improves efficiency and customer satisfaction.\n",
      "\n",
      "4. **Resource Optimization:**  In areas like energy grids or supply chains, agentic AI can autonomously manage resources, predicting demand, optimizing distribution, and reducing waste. This leads to increased efficiency and cost savings.\n",
      "\n",
      "5. **Scientific Discovery:** Agentic AI can automate experiments, analyze data, and generate hypotheses in scientific research, accelerating the pace of discovery in fields like drug development, materials science, and climate modeling.  It can explore vast data sets and identify patterns humans might miss.\n"
     ]
    }
   ],
   "source": [
    "## Execution\n",
    "\n",
    "initial_state = {'question':'what is the use case of agentic AI in 5 points'}\n",
    "\n",
    "final_state = workflow.invoke(initial_state)\n",
    "\n",
    "print(final_state['answer'])"
   ]
  },
  {
   "cell_type": "code",
   "execution_count": null,
   "id": "43385329",
   "metadata": {},
   "outputs": [],
   "source": []
  }
 ],
 "metadata": {
  "kernelspec": {
   "display_name": "venv",
   "language": "python",
   "name": "python3"
  },
  "language_info": {
   "codemirror_mode": {
    "name": "ipython",
    "version": 3
   },
   "file_extension": ".py",
   "mimetype": "text/x-python",
   "name": "python",
   "nbconvert_exporter": "python",
   "pygments_lexer": "ipython3",
   "version": "3.11.0"
  }
 },
 "nbformat": 4,
 "nbformat_minor": 5
}
